{
 "cells": [
  {
   "cell_type": "code",
   "execution_count": 1,
   "id": "94ee5ec1",
   "metadata": {
    "id": "94ee5ec1"
   },
   "outputs": [],
   "source": [
    "import pandas as pd\n",
    "import matplotlib.pyplot as plt\n",
    "import seaborn as sns\n",
    "import numpy as np\n",
    "import plotly.express as px\n",
    "from datetime import datetime\n",
    "from datetime import date\n",
    "from datetime import timedelta\n",
    "import yfinance as yf"
   ]
  },
  {
   "cell_type": "code",
   "execution_count": 2,
   "id": "37a73619",
   "metadata": {
    "id": "37a73619"
   },
   "outputs": [],
   "source": [
    "start_date = '1994-03-01'\n",
    "final_date = '2022-09-02'"
   ]
  },
  {
   "cell_type": "code",
   "execution_count": 3,
   "id": "24877839",
   "metadata": {
    "colab": {
     "base_uri": "https://localhost:8080/"
    },
    "id": "24877839",
    "outputId": "fff06cd5-318e-4453-d179-7e93ae3492b3"
   },
   "outputs": [
    {
     "name": "stdout",
     "output_type": "stream",
     "text": [
      "[*********************100%***********************]  1 of 1 completed\n"
     ]
    }
   ],
   "source": [
    "df_ibov = pd.DataFrame()\n",
    "df_ibov['IBOV'] = yf.download('^BVSP', start = start_date, end = final_date, interval = '1d')['Adj Close']"
   ]
  },
  {
   "cell_type": "code",
   "execution_count": 4,
   "id": "df6b693c",
   "metadata": {
    "colab": {
     "base_uri": "https://localhost:8080/",
     "height": 237
    },
    "id": "df6b693c",
    "outputId": "6a8def07-6ba3-46df-b5dc-ffc5434e1cb2"
   },
   "outputs": [
    {
     "data": {
      "text/html": [
       "<div>\n",
       "<style scoped>\n",
       "    .dataframe tbody tr th:only-of-type {\n",
       "        vertical-align: middle;\n",
       "    }\n",
       "\n",
       "    .dataframe tbody tr th {\n",
       "        vertical-align: top;\n",
       "    }\n",
       "\n",
       "    .dataframe thead th {\n",
       "        text-align: right;\n",
       "    }\n",
       "</style>\n",
       "<table border=\"1\" class=\"dataframe\">\n",
       "  <thead>\n",
       "    <tr style=\"text-align: right;\">\n",
       "      <th></th>\n",
       "      <th>IBOV</th>\n",
       "    </tr>\n",
       "    <tr>\n",
       "      <th>Date</th>\n",
       "      <th></th>\n",
       "    </tr>\n",
       "  </thead>\n",
       "  <tbody>\n",
       "    <tr>\n",
       "      <th>1994-03-01</th>\n",
       "      <td>1073.300049</td>\n",
       "    </tr>\n",
       "    <tr>\n",
       "      <th>1994-03-02</th>\n",
       "      <td>1021.500000</td>\n",
       "    </tr>\n",
       "    <tr>\n",
       "      <th>1994-03-03</th>\n",
       "      <td>1045.800049</td>\n",
       "    </tr>\n",
       "    <tr>\n",
       "      <th>1994-03-04</th>\n",
       "      <td>1114.000000</td>\n",
       "    </tr>\n",
       "    <tr>\n",
       "      <th>1994-03-07</th>\n",
       "      <td>1193.900024</td>\n",
       "    </tr>\n",
       "  </tbody>\n",
       "</table>\n",
       "</div>"
      ],
      "text/plain": [
       "                   IBOV\n",
       "Date                   \n",
       "1994-03-01  1073.300049\n",
       "1994-03-02  1021.500000\n",
       "1994-03-03  1045.800049\n",
       "1994-03-04  1114.000000\n",
       "1994-03-07  1193.900024"
      ]
     },
     "execution_count": 4,
     "metadata": {},
     "output_type": "execute_result"
    }
   ],
   "source": [
    "df_ibov.head()"
   ]
  },
  {
   "cell_type": "code",
   "execution_count": 5,
   "id": "1900ee76",
   "metadata": {
    "id": "1900ee76"
   },
   "outputs": [],
   "source": [
    "url_bcb = 'http://api.bcb.gov.br/dados/serie/bcdata.sgs.433/dados?formato=json'\n",
    "ipca = pd.read_json(url_bcb)\n",
    "ipca['data'] = pd.to_datetime(ipca['data'], dayfirst = True)\n",
    "ipca.rename(columns={'data': 'Date'}, inplace = True)\n",
    "ipca.rename(columns={'valor': 'value'}, inplace = True)\n",
    "ipca.set_index('Date', inplace = True)\n",
    "ipca = ipca.loc[start_date:]"
   ]
  },
  {
   "cell_type": "code",
   "execution_count": 6,
   "id": "a47cac6f",
   "metadata": {
    "colab": {
     "base_uri": "https://localhost:8080/",
     "height": 237
    },
    "id": "a47cac6f",
    "outputId": "e00970f4-de9d-4ed5-e4ef-b382ffb8f3ab"
   },
   "outputs": [
    {
     "data": {
      "text/html": [
       "<div>\n",
       "<style scoped>\n",
       "    .dataframe tbody tr th:only-of-type {\n",
       "        vertical-align: middle;\n",
       "    }\n",
       "\n",
       "    .dataframe tbody tr th {\n",
       "        vertical-align: top;\n",
       "    }\n",
       "\n",
       "    .dataframe thead th {\n",
       "        text-align: right;\n",
       "    }\n",
       "</style>\n",
       "<table border=\"1\" class=\"dataframe\">\n",
       "  <thead>\n",
       "    <tr style=\"text-align: right;\">\n",
       "      <th></th>\n",
       "      <th>value</th>\n",
       "    </tr>\n",
       "    <tr>\n",
       "      <th>Date</th>\n",
       "      <th></th>\n",
       "    </tr>\n",
       "  </thead>\n",
       "  <tbody>\n",
       "    <tr>\n",
       "      <th>1994-03-01</th>\n",
       "      <td>0.4275</td>\n",
       "    </tr>\n",
       "    <tr>\n",
       "      <th>1994-04-01</th>\n",
       "      <td>0.4268</td>\n",
       "    </tr>\n",
       "    <tr>\n",
       "      <th>1994-05-01</th>\n",
       "      <td>0.4403</td>\n",
       "    </tr>\n",
       "    <tr>\n",
       "      <th>1994-06-01</th>\n",
       "      <td>0.4743</td>\n",
       "    </tr>\n",
       "    <tr>\n",
       "      <th>1994-07-01</th>\n",
       "      <td>0.0684</td>\n",
       "    </tr>\n",
       "  </tbody>\n",
       "</table>\n",
       "</div>"
      ],
      "text/plain": [
       "             value\n",
       "Date              \n",
       "1994-03-01  0.4275\n",
       "1994-04-01  0.4268\n",
       "1994-05-01  0.4403\n",
       "1994-06-01  0.4743\n",
       "1994-07-01  0.0684"
      ]
     },
     "execution_count": 6,
     "metadata": {},
     "output_type": "execute_result"
    }
   ],
   "source": [
    "ipca = ipca / 100\n",
    "ipca.head()"
   ]
  },
  {
   "cell_type": "code",
   "execution_count": 7,
   "id": "oNNnMwjw0mcr",
   "metadata": {
    "colab": {
     "base_uri": "https://localhost:8080/",
     "height": 189
    },
    "id": "oNNnMwjw0mcr",
    "outputId": "bbf753d2-fcab-46a9-e64e-8d701cffd754"
   },
   "outputs": [
    {
     "data": {
      "text/html": [
       "<div>\n",
       "<style scoped>\n",
       "    .dataframe tbody tr th:only-of-type {\n",
       "        vertical-align: middle;\n",
       "    }\n",
       "\n",
       "    .dataframe tbody tr th {\n",
       "        vertical-align: top;\n",
       "    }\n",
       "\n",
       "    .dataframe thead th {\n",
       "        text-align: right;\n",
       "    }\n",
       "</style>\n",
       "<table border=\"1\" class=\"dataframe\">\n",
       "  <thead>\n",
       "    <tr style=\"text-align: right;\">\n",
       "      <th></th>\n",
       "    </tr>\n",
       "  </thead>\n",
       "  <tbody>\n",
       "    <tr>\n",
       "      <th>1994-03-01</th>\n",
       "    </tr>\n",
       "    <tr>\n",
       "      <th>1994-03-02</th>\n",
       "    </tr>\n",
       "    <tr>\n",
       "      <th>1994-03-03</th>\n",
       "    </tr>\n",
       "    <tr>\n",
       "      <th>1994-03-04</th>\n",
       "    </tr>\n",
       "    <tr>\n",
       "      <th>1994-03-05</th>\n",
       "    </tr>\n",
       "  </tbody>\n",
       "</table>\n",
       "</div>"
      ],
      "text/plain": [
       "Empty DataFrame\n",
       "Columns: []\n",
       "Index: [1994-03-01 00:00:00, 1994-03-02 00:00:00, 1994-03-03 00:00:00, 1994-03-04 00:00:00, 1994-03-05 00:00:00]"
      ]
     },
     "execution_count": 7,
     "metadata": {},
     "output_type": "execute_result"
    }
   ],
   "source": [
    "df_ipca = pd.DataFrame()\n",
    "df_ipca.index = pd.date_range(start_date, final_date, freq = 'D')\n",
    "df_ipca.head()"
   ]
  },
  {
   "cell_type": "code",
   "execution_count": 8,
   "id": "0541e1eb",
   "metadata": {
    "id": "0541e1eb"
   },
   "outputs": [],
   "source": [
    "list_aux = []\n",
    "for i in df_ipca.index:\n",
    "    if len(str(i.month)) == 1:\n",
    "        list_aux.append(f'{i.year}-0{i.month}')\n",
    "    else:\n",
    "        list_aux.append(f'{i.year}-{i.month}')"
   ]
  },
  {
   "cell_type": "code",
   "execution_count": 9,
   "id": "eb6878fd",
   "metadata": {
    "colab": {
     "base_uri": "https://localhost:8080/",
     "height": 206
    },
    "id": "eb6878fd",
    "outputId": "101337bd-bf94-4397-e6e9-243ce00b3147"
   },
   "outputs": [
    {
     "data": {
      "text/html": [
       "<div>\n",
       "<style scoped>\n",
       "    .dataframe tbody tr th:only-of-type {\n",
       "        vertical-align: middle;\n",
       "    }\n",
       "\n",
       "    .dataframe tbody tr th {\n",
       "        vertical-align: top;\n",
       "    }\n",
       "\n",
       "    .dataframe thead th {\n",
       "        text-align: right;\n",
       "    }\n",
       "</style>\n",
       "<table border=\"1\" class=\"dataframe\">\n",
       "  <thead>\n",
       "    <tr style=\"text-align: right;\">\n",
       "      <th></th>\n",
       "      <th>date_aux</th>\n",
       "    </tr>\n",
       "  </thead>\n",
       "  <tbody>\n",
       "    <tr>\n",
       "      <th>1994-03-01</th>\n",
       "      <td>1994-03</td>\n",
       "    </tr>\n",
       "    <tr>\n",
       "      <th>1994-03-02</th>\n",
       "      <td>1994-03</td>\n",
       "    </tr>\n",
       "    <tr>\n",
       "      <th>1994-03-03</th>\n",
       "      <td>1994-03</td>\n",
       "    </tr>\n",
       "    <tr>\n",
       "      <th>1994-03-04</th>\n",
       "      <td>1994-03</td>\n",
       "    </tr>\n",
       "    <tr>\n",
       "      <th>1994-03-05</th>\n",
       "      <td>1994-03</td>\n",
       "    </tr>\n",
       "  </tbody>\n",
       "</table>\n",
       "</div>"
      ],
      "text/plain": [
       "           date_aux\n",
       "1994-03-01  1994-03\n",
       "1994-03-02  1994-03\n",
       "1994-03-03  1994-03\n",
       "1994-03-04  1994-03\n",
       "1994-03-05  1994-03"
      ]
     },
     "execution_count": 9,
     "metadata": {},
     "output_type": "execute_result"
    }
   ],
   "source": [
    "df_ipca['date_aux'] = list_aux\n",
    "df_ipca.head()"
   ]
  },
  {
   "cell_type": "code",
   "execution_count": 10,
   "id": "59995016",
   "metadata": {
    "id": "59995016"
   },
   "outputs": [],
   "source": [
    "list_ipca = []\n",
    "for i in df_ipca['date_aux']:\n",
    "    for index, row in ipca.iterrows():\n",
    "        if i == index.strftime('%Y-%m'):\n",
    "            list_ipca.append(row['value'])"
   ]
  },
  {
   "cell_type": "code",
   "execution_count": 11,
   "id": "442f3a80",
   "metadata": {
    "id": "442f3a80"
   },
   "outputs": [],
   "source": [
    "for i in df_ipca['date_aux']:\n",
    "    month = i.split('-')[1]\n",
    "    \n",
    "    if month == '01' or month == '03' or month == '05' or month == '07' or month == '08' or month == '10' or month == '12':\n",
    "        df_ipca['IPCA'] = list_ipca\n",
    "        df_ipca['IPCA'] = ((1 + df_ipca['IPCA'])**(1/31)) - 1\n",
    "        df_ipca['IPCA'] = df_ipca['IPCA'] + 1\n",
    "        df_ipca['IPCA_cumulative'] = df_ipca['IPCA'].cumprod()\n",
    "        \n",
    "    elif month == '02':\n",
    "        df_ipca['IPCA'] = list_ipca\n",
    "        df_ipca['IPCA'] = ((1 + df_ipca['IPCA'])**(1/28)) - 1\n",
    "        df_ipca['IPCA'] = df_ipca['IPCA'] + 1\n",
    "        df_ipca['IPCA_cumulative'] = df_ipca['IPCA'].cumprod()\n",
    "        \n",
    "    elif month == '04' or month == '06' or month == '09' or month == '11':\n",
    "        df_ipca['IPCA'] = list_ipca\n",
    "        df_ipca['IPCA'] = ((1 + df_ipca['IPCA'])**(1/30)) - 1\n",
    "        df_ipca['IPCA'] = df_ipca['IPCA'] + 1\n",
    "        df_ipca['IPCA_cumulative'] = df_ipca['IPCA'].cumprod()"
   ]
  },
  {
   "cell_type": "code",
   "execution_count": 12,
   "id": "885dc4f2",
   "metadata": {
    "colab": {
     "base_uri": "https://localhost:8080/",
     "height": 676
    },
    "id": "885dc4f2",
    "outputId": "d8f1f9c3-8093-4df6-d6fc-d374578d9425"
   },
   "outputs": [
    {
     "data": {
      "text/html": [
       "<div>\n",
       "<style scoped>\n",
       "    .dataframe tbody tr th:only-of-type {\n",
       "        vertical-align: middle;\n",
       "    }\n",
       "\n",
       "    .dataframe tbody tr th {\n",
       "        vertical-align: top;\n",
       "    }\n",
       "\n",
       "    .dataframe thead th {\n",
       "        text-align: right;\n",
       "    }\n",
       "</style>\n",
       "<table border=\"1\" class=\"dataframe\">\n",
       "  <thead>\n",
       "    <tr style=\"text-align: right;\">\n",
       "      <th></th>\n",
       "      <th>date_aux</th>\n",
       "      <th>IPCA</th>\n",
       "      <th>IPCA_cumulative</th>\n",
       "    </tr>\n",
       "  </thead>\n",
       "  <tbody>\n",
       "    <tr>\n",
       "      <th>1994-03-01</th>\n",
       "      <td>1994-03</td>\n",
       "      <td>1.011935</td>\n",
       "      <td>1.011935</td>\n",
       "    </tr>\n",
       "    <tr>\n",
       "      <th>1994-03-02</th>\n",
       "      <td>1994-03</td>\n",
       "      <td>1.011935</td>\n",
       "      <td>1.024012</td>\n",
       "    </tr>\n",
       "    <tr>\n",
       "      <th>1994-03-03</th>\n",
       "      <td>1994-03</td>\n",
       "      <td>1.011935</td>\n",
       "      <td>1.036233</td>\n",
       "    </tr>\n",
       "    <tr>\n",
       "      <th>1994-03-04</th>\n",
       "      <td>1994-03</td>\n",
       "      <td>1.011935</td>\n",
       "      <td>1.048601</td>\n",
       "    </tr>\n",
       "    <tr>\n",
       "      <th>1994-03-05</th>\n",
       "      <td>1994-03</td>\n",
       "      <td>1.011935</td>\n",
       "      <td>1.061116</td>\n",
       "    </tr>\n",
       "    <tr>\n",
       "      <th>1994-03-06</th>\n",
       "      <td>1994-03</td>\n",
       "      <td>1.011935</td>\n",
       "      <td>1.073780</td>\n",
       "    </tr>\n",
       "    <tr>\n",
       "      <th>1994-03-07</th>\n",
       "      <td>1994-03</td>\n",
       "      <td>1.011935</td>\n",
       "      <td>1.086595</td>\n",
       "    </tr>\n",
       "    <tr>\n",
       "      <th>1994-03-08</th>\n",
       "      <td>1994-03</td>\n",
       "      <td>1.011935</td>\n",
       "      <td>1.099563</td>\n",
       "    </tr>\n",
       "    <tr>\n",
       "      <th>1994-03-09</th>\n",
       "      <td>1994-03</td>\n",
       "      <td>1.011935</td>\n",
       "      <td>1.112687</td>\n",
       "    </tr>\n",
       "    <tr>\n",
       "      <th>1994-03-10</th>\n",
       "      <td>1994-03</td>\n",
       "      <td>1.011935</td>\n",
       "      <td>1.125966</td>\n",
       "    </tr>\n",
       "    <tr>\n",
       "      <th>1994-03-11</th>\n",
       "      <td>1994-03</td>\n",
       "      <td>1.011935</td>\n",
       "      <td>1.139404</td>\n",
       "    </tr>\n",
       "    <tr>\n",
       "      <th>1994-03-12</th>\n",
       "      <td>1994-03</td>\n",
       "      <td>1.011935</td>\n",
       "      <td>1.153003</td>\n",
       "    </tr>\n",
       "    <tr>\n",
       "      <th>1994-03-13</th>\n",
       "      <td>1994-03</td>\n",
       "      <td>1.011935</td>\n",
       "      <td>1.166764</td>\n",
       "    </tr>\n",
       "    <tr>\n",
       "      <th>1994-03-14</th>\n",
       "      <td>1994-03</td>\n",
       "      <td>1.011935</td>\n",
       "      <td>1.180689</td>\n",
       "    </tr>\n",
       "    <tr>\n",
       "      <th>1994-03-15</th>\n",
       "      <td>1994-03</td>\n",
       "      <td>1.011935</td>\n",
       "      <td>1.194780</td>\n",
       "    </tr>\n",
       "    <tr>\n",
       "      <th>1994-03-16</th>\n",
       "      <td>1994-03</td>\n",
       "      <td>1.011935</td>\n",
       "      <td>1.209040</td>\n",
       "    </tr>\n",
       "    <tr>\n",
       "      <th>1994-03-17</th>\n",
       "      <td>1994-03</td>\n",
       "      <td>1.011935</td>\n",
       "      <td>1.223469</td>\n",
       "    </tr>\n",
       "    <tr>\n",
       "      <th>1994-03-18</th>\n",
       "      <td>1994-03</td>\n",
       "      <td>1.011935</td>\n",
       "      <td>1.238071</td>\n",
       "    </tr>\n",
       "    <tr>\n",
       "      <th>1994-03-19</th>\n",
       "      <td>1994-03</td>\n",
       "      <td>1.011935</td>\n",
       "      <td>1.252847</td>\n",
       "    </tr>\n",
       "    <tr>\n",
       "      <th>1994-03-20</th>\n",
       "      <td>1994-03</td>\n",
       "      <td>1.011935</td>\n",
       "      <td>1.267800</td>\n",
       "    </tr>\n",
       "  </tbody>\n",
       "</table>\n",
       "</div>"
      ],
      "text/plain": [
       "           date_aux      IPCA  IPCA_cumulative\n",
       "1994-03-01  1994-03  1.011935         1.011935\n",
       "1994-03-02  1994-03  1.011935         1.024012\n",
       "1994-03-03  1994-03  1.011935         1.036233\n",
       "1994-03-04  1994-03  1.011935         1.048601\n",
       "1994-03-05  1994-03  1.011935         1.061116\n",
       "1994-03-06  1994-03  1.011935         1.073780\n",
       "1994-03-07  1994-03  1.011935         1.086595\n",
       "1994-03-08  1994-03  1.011935         1.099563\n",
       "1994-03-09  1994-03  1.011935         1.112687\n",
       "1994-03-10  1994-03  1.011935         1.125966\n",
       "1994-03-11  1994-03  1.011935         1.139404\n",
       "1994-03-12  1994-03  1.011935         1.153003\n",
       "1994-03-13  1994-03  1.011935         1.166764\n",
       "1994-03-14  1994-03  1.011935         1.180689\n",
       "1994-03-15  1994-03  1.011935         1.194780\n",
       "1994-03-16  1994-03  1.011935         1.209040\n",
       "1994-03-17  1994-03  1.011935         1.223469\n",
       "1994-03-18  1994-03  1.011935         1.238071\n",
       "1994-03-19  1994-03  1.011935         1.252847\n",
       "1994-03-20  1994-03  1.011935         1.267800"
      ]
     },
     "execution_count": 12,
     "metadata": {},
     "output_type": "execute_result"
    }
   ],
   "source": [
    "df_ipca.head(20)"
   ]
  },
  {
   "cell_type": "code",
   "execution_count": 13,
   "id": "2IIDgDEV2HXu",
   "metadata": {
    "id": "2IIDgDEV2HXu"
   },
   "outputs": [],
   "source": [
    "#df_ipca.index = df_ipca.index.strftime('%Y-%m-%d')"
   ]
  },
  {
   "cell_type": "code",
   "execution_count": 14,
   "id": "nHSCDE-P2jYr",
   "metadata": {
    "id": "nHSCDE-P2jYr"
   },
   "outputs": [],
   "source": [
    "#df_ibov.index = df_ibov.index.strftime('%Y-%m-%d')"
   ]
  },
  {
   "cell_type": "code",
   "execution_count": 15,
   "id": "1322cdd6",
   "metadata": {
    "colab": {
     "base_uri": "https://localhost:8080/",
     "height": 676
    },
    "id": "1322cdd6",
    "outputId": "4c83caf8-bce3-4572-87c5-4ba9a4410476"
   },
   "outputs": [
    {
     "data": {
      "text/html": [
       "<div>\n",
       "<style scoped>\n",
       "    .dataframe tbody tr th:only-of-type {\n",
       "        vertical-align: middle;\n",
       "    }\n",
       "\n",
       "    .dataframe tbody tr th {\n",
       "        vertical-align: top;\n",
       "    }\n",
       "\n",
       "    .dataframe thead th {\n",
       "        text-align: right;\n",
       "    }\n",
       "</style>\n",
       "<table border=\"1\" class=\"dataframe\">\n",
       "  <thead>\n",
       "    <tr style=\"text-align: right;\">\n",
       "      <th></th>\n",
       "      <th>IBOV</th>\n",
       "      <th>date_aux</th>\n",
       "      <th>IPCA</th>\n",
       "      <th>IPCA_cumulative</th>\n",
       "    </tr>\n",
       "  </thead>\n",
       "  <tbody>\n",
       "    <tr>\n",
       "      <th>1994-03-01</th>\n",
       "      <td>1073.300049</td>\n",
       "      <td>1994-03</td>\n",
       "      <td>1.011935</td>\n",
       "      <td>1.011935</td>\n",
       "    </tr>\n",
       "    <tr>\n",
       "      <th>1994-03-02</th>\n",
       "      <td>1021.500000</td>\n",
       "      <td>1994-03</td>\n",
       "      <td>1.011935</td>\n",
       "      <td>1.024012</td>\n",
       "    </tr>\n",
       "    <tr>\n",
       "      <th>1994-03-03</th>\n",
       "      <td>1045.800049</td>\n",
       "      <td>1994-03</td>\n",
       "      <td>1.011935</td>\n",
       "      <td>1.036233</td>\n",
       "    </tr>\n",
       "    <tr>\n",
       "      <th>1994-03-04</th>\n",
       "      <td>1114.000000</td>\n",
       "      <td>1994-03</td>\n",
       "      <td>1.011935</td>\n",
       "      <td>1.048601</td>\n",
       "    </tr>\n",
       "    <tr>\n",
       "      <th>1994-03-07</th>\n",
       "      <td>1193.900024</td>\n",
       "      <td>1994-03</td>\n",
       "      <td>1.011935</td>\n",
       "      <td>1.086595</td>\n",
       "    </tr>\n",
       "    <tr>\n",
       "      <th>1994-03-08</th>\n",
       "      <td>1204.500000</td>\n",
       "      <td>1994-03</td>\n",
       "      <td>1.011935</td>\n",
       "      <td>1.099563</td>\n",
       "    </tr>\n",
       "    <tr>\n",
       "      <th>1994-03-09</th>\n",
       "      <td>1260.199951</td>\n",
       "      <td>1994-03</td>\n",
       "      <td>1.011935</td>\n",
       "      <td>1.112687</td>\n",
       "    </tr>\n",
       "    <tr>\n",
       "      <th>1994-03-10</th>\n",
       "      <td>1266.900024</td>\n",
       "      <td>1994-03</td>\n",
       "      <td>1.011935</td>\n",
       "      <td>1.125966</td>\n",
       "    </tr>\n",
       "    <tr>\n",
       "      <th>1994-03-11</th>\n",
       "      <td>1268.699951</td>\n",
       "      <td>1994-03</td>\n",
       "      <td>1.011935</td>\n",
       "      <td>1.139404</td>\n",
       "    </tr>\n",
       "    <tr>\n",
       "      <th>1994-03-14</th>\n",
       "      <td>1329.699951</td>\n",
       "      <td>1994-03</td>\n",
       "      <td>1.011935</td>\n",
       "      <td>1.180689</td>\n",
       "    </tr>\n",
       "    <tr>\n",
       "      <th>1994-03-15</th>\n",
       "      <td>1350.900024</td>\n",
       "      <td>1994-03</td>\n",
       "      <td>1.011935</td>\n",
       "      <td>1.194780</td>\n",
       "    </tr>\n",
       "    <tr>\n",
       "      <th>1994-03-16</th>\n",
       "      <td>1408.400024</td>\n",
       "      <td>1994-03</td>\n",
       "      <td>1.011935</td>\n",
       "      <td>1.209040</td>\n",
       "    </tr>\n",
       "    <tr>\n",
       "      <th>1994-03-17</th>\n",
       "      <td>1393.800049</td>\n",
       "      <td>1994-03</td>\n",
       "      <td>1.011935</td>\n",
       "      <td>1.223469</td>\n",
       "    </tr>\n",
       "    <tr>\n",
       "      <th>1994-03-18</th>\n",
       "      <td>1331.800049</td>\n",
       "      <td>1994-03</td>\n",
       "      <td>1.011935</td>\n",
       "      <td>1.238071</td>\n",
       "    </tr>\n",
       "    <tr>\n",
       "      <th>1994-03-21</th>\n",
       "      <td>1270.800049</td>\n",
       "      <td>1994-03</td>\n",
       "      <td>1.011935</td>\n",
       "      <td>1.282931</td>\n",
       "    </tr>\n",
       "    <tr>\n",
       "      <th>1994-03-22</th>\n",
       "      <td>1353.500000</td>\n",
       "      <td>1994-03</td>\n",
       "      <td>1.011935</td>\n",
       "      <td>1.298242</td>\n",
       "    </tr>\n",
       "    <tr>\n",
       "      <th>1994-03-23</th>\n",
       "      <td>1415.699951</td>\n",
       "      <td>1994-03</td>\n",
       "      <td>1.011935</td>\n",
       "      <td>1.313737</td>\n",
       "    </tr>\n",
       "    <tr>\n",
       "      <th>1994-03-24</th>\n",
       "      <td>1376.599976</td>\n",
       "      <td>1994-03</td>\n",
       "      <td>1.011935</td>\n",
       "      <td>1.329416</td>\n",
       "    </tr>\n",
       "    <tr>\n",
       "      <th>1994-03-25</th>\n",
       "      <td>1459.099976</td>\n",
       "      <td>1994-03</td>\n",
       "      <td>1.011935</td>\n",
       "      <td>1.345282</td>\n",
       "    </tr>\n",
       "    <tr>\n",
       "      <th>1994-03-28</th>\n",
       "      <td>1469.300049</td>\n",
       "      <td>1994-03</td>\n",
       "      <td>1.011935</td>\n",
       "      <td>1.394027</td>\n",
       "    </tr>\n",
       "  </tbody>\n",
       "</table>\n",
       "</div>"
      ],
      "text/plain": [
       "                   IBOV date_aux      IPCA  IPCA_cumulative\n",
       "1994-03-01  1073.300049  1994-03  1.011935         1.011935\n",
       "1994-03-02  1021.500000  1994-03  1.011935         1.024012\n",
       "1994-03-03  1045.800049  1994-03  1.011935         1.036233\n",
       "1994-03-04  1114.000000  1994-03  1.011935         1.048601\n",
       "1994-03-07  1193.900024  1994-03  1.011935         1.086595\n",
       "1994-03-08  1204.500000  1994-03  1.011935         1.099563\n",
       "1994-03-09  1260.199951  1994-03  1.011935         1.112687\n",
       "1994-03-10  1266.900024  1994-03  1.011935         1.125966\n",
       "1994-03-11  1268.699951  1994-03  1.011935         1.139404\n",
       "1994-03-14  1329.699951  1994-03  1.011935         1.180689\n",
       "1994-03-15  1350.900024  1994-03  1.011935         1.194780\n",
       "1994-03-16  1408.400024  1994-03  1.011935         1.209040\n",
       "1994-03-17  1393.800049  1994-03  1.011935         1.223469\n",
       "1994-03-18  1331.800049  1994-03  1.011935         1.238071\n",
       "1994-03-21  1270.800049  1994-03  1.011935         1.282931\n",
       "1994-03-22  1353.500000  1994-03  1.011935         1.298242\n",
       "1994-03-23  1415.699951  1994-03  1.011935         1.313737\n",
       "1994-03-24  1376.599976  1994-03  1.011935         1.329416\n",
       "1994-03-25  1459.099976  1994-03  1.011935         1.345282\n",
       "1994-03-28  1469.300049  1994-03  1.011935         1.394027"
      ]
     },
     "execution_count": 15,
     "metadata": {},
     "output_type": "execute_result"
    }
   ],
   "source": [
    "df_final = pd.merge(df_ibov, df_ipca, how = 'inner', left_index = True, right_index = True)\n",
    "df_final.head(20)"
   ]
  },
  {
   "cell_type": "code",
   "execution_count": 16,
   "id": "0c8872fd",
   "metadata": {
    "colab": {
     "base_uri": "https://localhost:8080/",
     "height": 206
    },
    "id": "0c8872fd",
    "outputId": "a19a1c1f-611c-4db9-efd3-4598e2753747"
   },
   "outputs": [
    {
     "data": {
      "text/html": [
       "<div>\n",
       "<style scoped>\n",
       "    .dataframe tbody tr th:only-of-type {\n",
       "        vertical-align: middle;\n",
       "    }\n",
       "\n",
       "    .dataframe tbody tr th {\n",
       "        vertical-align: top;\n",
       "    }\n",
       "\n",
       "    .dataframe thead th {\n",
       "        text-align: right;\n",
       "    }\n",
       "</style>\n",
       "<table border=\"1\" class=\"dataframe\">\n",
       "  <thead>\n",
       "    <tr style=\"text-align: right;\">\n",
       "      <th></th>\n",
       "      <th>real_return</th>\n",
       "    </tr>\n",
       "  </thead>\n",
       "  <tbody>\n",
       "    <tr>\n",
       "      <th>1994-03-02</th>\n",
       "      <td>-0.059487</td>\n",
       "    </tr>\n",
       "    <tr>\n",
       "      <th>1994-03-03</th>\n",
       "      <td>0.011714</td>\n",
       "    </tr>\n",
       "    <tr>\n",
       "      <th>1994-03-04</th>\n",
       "      <td>0.052650</td>\n",
       "    </tr>\n",
       "    <tr>\n",
       "      <th>1994-03-07</th>\n",
       "      <td>0.059084</td>\n",
       "    </tr>\n",
       "    <tr>\n",
       "      <th>1994-03-08</th>\n",
       "      <td>-0.003020</td>\n",
       "    </tr>\n",
       "  </tbody>\n",
       "</table>\n",
       "</div>"
      ],
      "text/plain": [
       "            real_return\n",
       "1994-03-02    -0.059487\n",
       "1994-03-03     0.011714\n",
       "1994-03-04     0.052650\n",
       "1994-03-07     0.059084\n",
       "1994-03-08    -0.003020"
      ]
     },
     "execution_count": 16,
     "metadata": {},
     "output_type": "execute_result"
    }
   ],
   "source": [
    "ibov_daily = df_final.copy()\n",
    "ibov_daily['IBOV'] = ibov_daily['IBOV'].pct_change()\n",
    "ibov_daily = ibov_daily.iloc[1:]\n",
    "ibov_daily['real_return'] = ((ibov_daily['IBOV'] + 1) / (ibov_daily['IPCA'])) - 1\n",
    "ibov_daily.drop(columns = {'IBOV', 'date_aux', 'IPCA', 'IPCA_cumulative'}, inplace = True)\n",
    "ibov_daily.head()"
   ]
  },
  {
   "cell_type": "code",
   "execution_count": 17,
   "id": "zqQJoVx9O5-v",
   "metadata": {
    "id": "zqQJoVx9O5-v"
   },
   "outputs": [],
   "source": [
    "business_days = {'one_month': 21, 'two_months': 42, 'three_months': 63, 'four_months': 84, 'six_months': 126, \n",
    "                 'nine_months': 189, 'one_year': 252, 'two_years': 504, 'three_years': 756, 'four_years': 1008, \n",
    "                 'five_years': 1260, 'ten_years': 2520, 'fifteen_years': 3780, 'twenty_years': 5040, 'twenty_five_years': 6300,\n",
    "                 'twenty_seven_years': 6804}\n",
    "\n",
    "ibov = {}\n",
    "\n",
    "for key, value in business_days.items():\n",
    "      \n",
    "    ibov[key] = df_final.copy()\n",
    "    ibov[key]['IPCA_aux'] = ibov[key]['IPCA_cumulative'].shift(value + 1)\n",
    "    ibov[key].replace(to_replace = ibov[key]['IPCA_aux'].iloc[value], value = 1, inplace = True)\n",
    "    ibov[key]['IPCA_adjusted'] = ibov[key]['IPCA_cumulative'] / ibov[key]['IPCA_aux']\n",
    "    ibov[key]['IBOV'] = ibov[key]['IBOV'].diff(periods = value) / ibov[key]['IBOV'].shift(value)\n",
    "    ibov[key]['real_return'] = ((ibov[key]['IBOV'] + 1) / ibov[key]['IPCA_adjusted']) - 1\n",
    "    ibov[key].drop(columns = {'IBOV', 'date_aux', 'IPCA', 'IPCA_aux', 'IPCA_cumulative', 'IPCA_adjusted'}, inplace = True)\n",
    "    ibov[key] = ibov[key].iloc[value:]"
   ]
  },
  {
   "cell_type": "code",
   "execution_count": 18,
   "id": "Jwyb3px3akqc",
   "metadata": {
    "id": "Jwyb3px3akqc"
   },
   "outputs": [],
   "source": [
    "prop_return = {}\n",
    "\n",
    "for key, value in ibov.items():\n",
    "\n",
    "    prop_return[key] = round(100 * len(value[value['real_return'] > 0]) / len(value), 0)"
   ]
  },
  {
   "cell_type": "code",
   "execution_count": 19,
   "id": "g88l1GQl4HxP",
   "metadata": {
    "id": "g88l1GQl4HxP"
   },
   "outputs": [],
   "source": [
    "periods_return = ['1 Day', '1 Month', '2 Months', '3 Months', '4 Months', '6 Months', '9 Months', '1 Year', '2 Years', \n",
    "                  '3 Years', '4 Years', '5 Years', '10 Years', '15 years', '20 years', '25 Years', '27 Years']"
   ]
  },
  {
   "cell_type": "code",
   "execution_count": 20,
   "id": "lWp_8V3xcPGQ",
   "metadata": {
    "colab": {
     "base_uri": "https://localhost:8080/",
     "height": 582
    },
    "id": "lWp_8V3xcPGQ",
    "outputId": "2fe4bca6-f4ac-4ebd-993a-a355707c28b6"
   },
   "outputs": [
    {
     "data": {
      "text/html": [
       "<div>\n",
       "<style scoped>\n",
       "    .dataframe tbody tr th:only-of-type {\n",
       "        vertical-align: middle;\n",
       "    }\n",
       "\n",
       "    .dataframe tbody tr th {\n",
       "        vertical-align: top;\n",
       "    }\n",
       "\n",
       "    .dataframe thead th {\n",
       "        text-align: right;\n",
       "    }\n",
       "</style>\n",
       "<table border=\"1\" class=\"dataframe\">\n",
       "  <thead>\n",
       "    <tr style=\"text-align: right;\">\n",
       "      <th></th>\n",
       "      <th>% of periods that earned a positive return</th>\n",
       "      <th>Holding Period</th>\n",
       "    </tr>\n",
       "  </thead>\n",
       "  <tbody>\n",
       "    <tr>\n",
       "      <th>one_day</th>\n",
       "      <td>52.0</td>\n",
       "      <td>1 Day</td>\n",
       "    </tr>\n",
       "    <tr>\n",
       "      <th>one_month</th>\n",
       "      <td>55.0</td>\n",
       "      <td>1 Month</td>\n",
       "    </tr>\n",
       "    <tr>\n",
       "      <th>two_months</th>\n",
       "      <td>55.0</td>\n",
       "      <td>2 Months</td>\n",
       "    </tr>\n",
       "    <tr>\n",
       "      <th>three_months</th>\n",
       "      <td>57.0</td>\n",
       "      <td>3 Months</td>\n",
       "    </tr>\n",
       "    <tr>\n",
       "      <th>four_months</th>\n",
       "      <td>58.0</td>\n",
       "      <td>4 Months</td>\n",
       "    </tr>\n",
       "    <tr>\n",
       "      <th>six_months</th>\n",
       "      <td>55.0</td>\n",
       "      <td>6 Months</td>\n",
       "    </tr>\n",
       "    <tr>\n",
       "      <th>nine_months</th>\n",
       "      <td>55.0</td>\n",
       "      <td>9 Months</td>\n",
       "    </tr>\n",
       "    <tr>\n",
       "      <th>one_year</th>\n",
       "      <td>55.0</td>\n",
       "      <td>1 Year</td>\n",
       "    </tr>\n",
       "    <tr>\n",
       "      <th>two_years</th>\n",
       "      <td>58.0</td>\n",
       "      <td>2 Years</td>\n",
       "    </tr>\n",
       "    <tr>\n",
       "      <th>three_years</th>\n",
       "      <td>65.0</td>\n",
       "      <td>3 Years</td>\n",
       "    </tr>\n",
       "    <tr>\n",
       "      <th>four_years</th>\n",
       "      <td>66.0</td>\n",
       "      <td>4 Years</td>\n",
       "    </tr>\n",
       "    <tr>\n",
       "      <th>five_years</th>\n",
       "      <td>69.0</td>\n",
       "      <td>5 Years</td>\n",
       "    </tr>\n",
       "    <tr>\n",
       "      <th>ten_years</th>\n",
       "      <td>74.0</td>\n",
       "      <td>10 Years</td>\n",
       "    </tr>\n",
       "    <tr>\n",
       "      <th>fifteen_years</th>\n",
       "      <td>96.0</td>\n",
       "      <td>15 years</td>\n",
       "    </tr>\n",
       "    <tr>\n",
       "      <th>twenty_years</th>\n",
       "      <td>100.0</td>\n",
       "      <td>20 years</td>\n",
       "    </tr>\n",
       "    <tr>\n",
       "      <th>twenty_five_years</th>\n",
       "      <td>100.0</td>\n",
       "      <td>25 Years</td>\n",
       "    </tr>\n",
       "    <tr>\n",
       "      <th>twenty_seven_years</th>\n",
       "      <td>100.0</td>\n",
       "      <td>27 Years</td>\n",
       "    </tr>\n",
       "  </tbody>\n",
       "</table>\n",
       "</div>"
      ],
      "text/plain": [
       "                    % of periods that earned a positive return Holding Period\n",
       "one_day                                                   52.0          1 Day\n",
       "one_month                                                 55.0        1 Month\n",
       "two_months                                                55.0       2 Months\n",
       "three_months                                              57.0       3 Months\n",
       "four_months                                               58.0       4 Months\n",
       "six_months                                                55.0       6 Months\n",
       "nine_months                                               55.0       9 Months\n",
       "one_year                                                  55.0         1 Year\n",
       "two_years                                                 58.0        2 Years\n",
       "three_years                                               65.0        3 Years\n",
       "four_years                                                66.0        4 Years\n",
       "five_years                                                69.0        5 Years\n",
       "ten_years                                                 74.0       10 Years\n",
       "fifteen_years                                             96.0       15 years\n",
       "twenty_years                                             100.0       20 years\n",
       "twenty_five_years                                        100.0       25 Years\n",
       "twenty_seven_years                                       100.0       27 Years"
      ]
     },
     "execution_count": 20,
     "metadata": {},
     "output_type": "execute_result"
    }
   ],
   "source": [
    "df_return = pd.DataFrame([prop_return])\n",
    "df_return.insert(0, 'one_day', round(100 * len(ibov_daily[ibov_daily['real_return'] > 0]) / len(ibov_daily), 0))\n",
    "df_return = df_return.T\n",
    "df_return.rename(columns={0: '% of periods that earned a positive return'}, inplace = True)\n",
    "df_return.insert(1, 'Holding Period', periods_return)\n",
    "df_return"
   ]
  },
  {
   "cell_type": "code",
   "execution_count": 27,
   "id": "jUWd3imamio0",
   "metadata": {
    "colab": {
     "base_uri": "https://localhost:8080/",
     "height": 517
    },
    "id": "jUWd3imamio0",
    "outputId": "307fb6ec-5bc9-459c-9b76-43287ccc1568"
   },
   "outputs": [
    {
     "data": {
      "application/vnd.plotly.v1+json": {
       "config": {
        "plotlyServerURL": "https://plot.ly"
       },
       "data": [
        {
         "alignmentgroup": "True",
         "cliponaxis": false,
         "hovertemplate": "Holding Period=%{x}<br>% of periods that earned a positive return=%{y}<extra></extra>",
         "legendgroup": "",
         "marker": {
          "color": "#636efa",
          "pattern": {
           "shape": ""
          }
         },
         "name": "",
         "offsetgroup": "",
         "orientation": "v",
         "showlegend": false,
         "textangle": 0,
         "textfont": {
          "size": 12
         },
         "textposition": "outside",
         "texttemplate": "%{y}%",
         "type": "bar",
         "width": 0.6,
         "x": [
          "1 Day",
          "1 Month",
          "2 Months",
          "3 Months",
          "4 Months",
          "6 Months",
          "9 Months",
          "1 Year",
          "2 Years",
          "3 Years",
          "4 Years",
          "5 Years",
          "10 Years",
          "15 years",
          "20 years",
          "25 Years",
          "27 Years"
         ],
         "xaxis": "x",
         "y": [
          52,
          55,
          55,
          57,
          58,
          55,
          55,
          55,
          58,
          65,
          66,
          69,
          74,
          96,
          100,
          100,
          100
         ],
         "yaxis": "y"
        }
       ],
       "layout": {
        "barmode": "relative",
        "height": 500,
        "legend": {
         "tracegroupgap": 0
        },
        "template": {
         "data": {
          "bar": [
           {
            "error_x": {
             "color": "#2a3f5f"
            },
            "error_y": {
             "color": "#2a3f5f"
            },
            "marker": {
             "line": {
              "color": "#E5ECF6",
              "width": 0.5
             },
             "pattern": {
              "fillmode": "overlay",
              "size": 10,
              "solidity": 0.2
             }
            },
            "type": "bar"
           }
          ],
          "barpolar": [
           {
            "marker": {
             "line": {
              "color": "#E5ECF6",
              "width": 0.5
             },
             "pattern": {
              "fillmode": "overlay",
              "size": 10,
              "solidity": 0.2
             }
            },
            "type": "barpolar"
           }
          ],
          "carpet": [
           {
            "aaxis": {
             "endlinecolor": "#2a3f5f",
             "gridcolor": "white",
             "linecolor": "white",
             "minorgridcolor": "white",
             "startlinecolor": "#2a3f5f"
            },
            "baxis": {
             "endlinecolor": "#2a3f5f",
             "gridcolor": "white",
             "linecolor": "white",
             "minorgridcolor": "white",
             "startlinecolor": "#2a3f5f"
            },
            "type": "carpet"
           }
          ],
          "choropleth": [
           {
            "colorbar": {
             "outlinewidth": 0,
             "ticks": ""
            },
            "type": "choropleth"
           }
          ],
          "contour": [
           {
            "colorbar": {
             "outlinewidth": 0,
             "ticks": ""
            },
            "colorscale": [
             [
              0,
              "#0d0887"
             ],
             [
              0.1111111111111111,
              "#46039f"
             ],
             [
              0.2222222222222222,
              "#7201a8"
             ],
             [
              0.3333333333333333,
              "#9c179e"
             ],
             [
              0.4444444444444444,
              "#bd3786"
             ],
             [
              0.5555555555555556,
              "#d8576b"
             ],
             [
              0.6666666666666666,
              "#ed7953"
             ],
             [
              0.7777777777777778,
              "#fb9f3a"
             ],
             [
              0.8888888888888888,
              "#fdca26"
             ],
             [
              1,
              "#f0f921"
             ]
            ],
            "type": "contour"
           }
          ],
          "contourcarpet": [
           {
            "colorbar": {
             "outlinewidth": 0,
             "ticks": ""
            },
            "type": "contourcarpet"
           }
          ],
          "heatmap": [
           {
            "colorbar": {
             "outlinewidth": 0,
             "ticks": ""
            },
            "colorscale": [
             [
              0,
              "#0d0887"
             ],
             [
              0.1111111111111111,
              "#46039f"
             ],
             [
              0.2222222222222222,
              "#7201a8"
             ],
             [
              0.3333333333333333,
              "#9c179e"
             ],
             [
              0.4444444444444444,
              "#bd3786"
             ],
             [
              0.5555555555555556,
              "#d8576b"
             ],
             [
              0.6666666666666666,
              "#ed7953"
             ],
             [
              0.7777777777777778,
              "#fb9f3a"
             ],
             [
              0.8888888888888888,
              "#fdca26"
             ],
             [
              1,
              "#f0f921"
             ]
            ],
            "type": "heatmap"
           }
          ],
          "heatmapgl": [
           {
            "colorbar": {
             "outlinewidth": 0,
             "ticks": ""
            },
            "colorscale": [
             [
              0,
              "#0d0887"
             ],
             [
              0.1111111111111111,
              "#46039f"
             ],
             [
              0.2222222222222222,
              "#7201a8"
             ],
             [
              0.3333333333333333,
              "#9c179e"
             ],
             [
              0.4444444444444444,
              "#bd3786"
             ],
             [
              0.5555555555555556,
              "#d8576b"
             ],
             [
              0.6666666666666666,
              "#ed7953"
             ],
             [
              0.7777777777777778,
              "#fb9f3a"
             ],
             [
              0.8888888888888888,
              "#fdca26"
             ],
             [
              1,
              "#f0f921"
             ]
            ],
            "type": "heatmapgl"
           }
          ],
          "histogram": [
           {
            "marker": {
             "pattern": {
              "fillmode": "overlay",
              "size": 10,
              "solidity": 0.2
             }
            },
            "type": "histogram"
           }
          ],
          "histogram2d": [
           {
            "colorbar": {
             "outlinewidth": 0,
             "ticks": ""
            },
            "colorscale": [
             [
              0,
              "#0d0887"
             ],
             [
              0.1111111111111111,
              "#46039f"
             ],
             [
              0.2222222222222222,
              "#7201a8"
             ],
             [
              0.3333333333333333,
              "#9c179e"
             ],
             [
              0.4444444444444444,
              "#bd3786"
             ],
             [
              0.5555555555555556,
              "#d8576b"
             ],
             [
              0.6666666666666666,
              "#ed7953"
             ],
             [
              0.7777777777777778,
              "#fb9f3a"
             ],
             [
              0.8888888888888888,
              "#fdca26"
             ],
             [
              1,
              "#f0f921"
             ]
            ],
            "type": "histogram2d"
           }
          ],
          "histogram2dcontour": [
           {
            "colorbar": {
             "outlinewidth": 0,
             "ticks": ""
            },
            "colorscale": [
             [
              0,
              "#0d0887"
             ],
             [
              0.1111111111111111,
              "#46039f"
             ],
             [
              0.2222222222222222,
              "#7201a8"
             ],
             [
              0.3333333333333333,
              "#9c179e"
             ],
             [
              0.4444444444444444,
              "#bd3786"
             ],
             [
              0.5555555555555556,
              "#d8576b"
             ],
             [
              0.6666666666666666,
              "#ed7953"
             ],
             [
              0.7777777777777778,
              "#fb9f3a"
             ],
             [
              0.8888888888888888,
              "#fdca26"
             ],
             [
              1,
              "#f0f921"
             ]
            ],
            "type": "histogram2dcontour"
           }
          ],
          "mesh3d": [
           {
            "colorbar": {
             "outlinewidth": 0,
             "ticks": ""
            },
            "type": "mesh3d"
           }
          ],
          "parcoords": [
           {
            "line": {
             "colorbar": {
              "outlinewidth": 0,
              "ticks": ""
             }
            },
            "type": "parcoords"
           }
          ],
          "pie": [
           {
            "automargin": true,
            "type": "pie"
           }
          ],
          "scatter": [
           {
            "fillpattern": {
             "fillmode": "overlay",
             "size": 10,
             "solidity": 0.2
            },
            "type": "scatter"
           }
          ],
          "scatter3d": [
           {
            "line": {
             "colorbar": {
              "outlinewidth": 0,
              "ticks": ""
             }
            },
            "marker": {
             "colorbar": {
              "outlinewidth": 0,
              "ticks": ""
             }
            },
            "type": "scatter3d"
           }
          ],
          "scattercarpet": [
           {
            "marker": {
             "colorbar": {
              "outlinewidth": 0,
              "ticks": ""
             }
            },
            "type": "scattercarpet"
           }
          ],
          "scattergeo": [
           {
            "marker": {
             "colorbar": {
              "outlinewidth": 0,
              "ticks": ""
             }
            },
            "type": "scattergeo"
           }
          ],
          "scattergl": [
           {
            "marker": {
             "colorbar": {
              "outlinewidth": 0,
              "ticks": ""
             }
            },
            "type": "scattergl"
           }
          ],
          "scattermapbox": [
           {
            "marker": {
             "colorbar": {
              "outlinewidth": 0,
              "ticks": ""
             }
            },
            "type": "scattermapbox"
           }
          ],
          "scatterpolar": [
           {
            "marker": {
             "colorbar": {
              "outlinewidth": 0,
              "ticks": ""
             }
            },
            "type": "scatterpolar"
           }
          ],
          "scatterpolargl": [
           {
            "marker": {
             "colorbar": {
              "outlinewidth": 0,
              "ticks": ""
             }
            },
            "type": "scatterpolargl"
           }
          ],
          "scatterternary": [
           {
            "marker": {
             "colorbar": {
              "outlinewidth": 0,
              "ticks": ""
             }
            },
            "type": "scatterternary"
           }
          ],
          "surface": [
           {
            "colorbar": {
             "outlinewidth": 0,
             "ticks": ""
            },
            "colorscale": [
             [
              0,
              "#0d0887"
             ],
             [
              0.1111111111111111,
              "#46039f"
             ],
             [
              0.2222222222222222,
              "#7201a8"
             ],
             [
              0.3333333333333333,
              "#9c179e"
             ],
             [
              0.4444444444444444,
              "#bd3786"
             ],
             [
              0.5555555555555556,
              "#d8576b"
             ],
             [
              0.6666666666666666,
              "#ed7953"
             ],
             [
              0.7777777777777778,
              "#fb9f3a"
             ],
             [
              0.8888888888888888,
              "#fdca26"
             ],
             [
              1,
              "#f0f921"
             ]
            ],
            "type": "surface"
           }
          ],
          "table": [
           {
            "cells": {
             "fill": {
              "color": "#EBF0F8"
             },
             "line": {
              "color": "white"
             }
            },
            "header": {
             "fill": {
              "color": "#C8D4E3"
             },
             "line": {
              "color": "white"
             }
            },
            "type": "table"
           }
          ]
         },
         "layout": {
          "annotationdefaults": {
           "arrowcolor": "#2a3f5f",
           "arrowhead": 0,
           "arrowwidth": 1
          },
          "autotypenumbers": "strict",
          "coloraxis": {
           "colorbar": {
            "outlinewidth": 0,
            "ticks": ""
           }
          },
          "colorscale": {
           "diverging": [
            [
             0,
             "#8e0152"
            ],
            [
             0.1,
             "#c51b7d"
            ],
            [
             0.2,
             "#de77ae"
            ],
            [
             0.3,
             "#f1b6da"
            ],
            [
             0.4,
             "#fde0ef"
            ],
            [
             0.5,
             "#f7f7f7"
            ],
            [
             0.6,
             "#e6f5d0"
            ],
            [
             0.7,
             "#b8e186"
            ],
            [
             0.8,
             "#7fbc41"
            ],
            [
             0.9,
             "#4d9221"
            ],
            [
             1,
             "#276419"
            ]
           ],
           "sequential": [
            [
             0,
             "#0d0887"
            ],
            [
             0.1111111111111111,
             "#46039f"
            ],
            [
             0.2222222222222222,
             "#7201a8"
            ],
            [
             0.3333333333333333,
             "#9c179e"
            ],
            [
             0.4444444444444444,
             "#bd3786"
            ],
            [
             0.5555555555555556,
             "#d8576b"
            ],
            [
             0.6666666666666666,
             "#ed7953"
            ],
            [
             0.7777777777777778,
             "#fb9f3a"
            ],
            [
             0.8888888888888888,
             "#fdca26"
            ],
            [
             1,
             "#f0f921"
            ]
           ],
           "sequentialminus": [
            [
             0,
             "#0d0887"
            ],
            [
             0.1111111111111111,
             "#46039f"
            ],
            [
             0.2222222222222222,
             "#7201a8"
            ],
            [
             0.3333333333333333,
             "#9c179e"
            ],
            [
             0.4444444444444444,
             "#bd3786"
            ],
            [
             0.5555555555555556,
             "#d8576b"
            ],
            [
             0.6666666666666666,
             "#ed7953"
            ],
            [
             0.7777777777777778,
             "#fb9f3a"
            ],
            [
             0.8888888888888888,
             "#fdca26"
            ],
            [
             1,
             "#f0f921"
            ]
           ]
          },
          "colorway": [
           "#636efa",
           "#EF553B",
           "#00cc96",
           "#ab63fa",
           "#FFA15A",
           "#19d3f3",
           "#FF6692",
           "#B6E880",
           "#FF97FF",
           "#FECB52"
          ],
          "font": {
           "color": "#2a3f5f"
          },
          "geo": {
           "bgcolor": "white",
           "lakecolor": "white",
           "landcolor": "#E5ECF6",
           "showlakes": true,
           "showland": true,
           "subunitcolor": "white"
          },
          "hoverlabel": {
           "align": "left"
          },
          "hovermode": "closest",
          "mapbox": {
           "style": "light"
          },
          "paper_bgcolor": "white",
          "plot_bgcolor": "#E5ECF6",
          "polar": {
           "angularaxis": {
            "gridcolor": "white",
            "linecolor": "white",
            "ticks": ""
           },
           "bgcolor": "#E5ECF6",
           "radialaxis": {
            "gridcolor": "white",
            "linecolor": "white",
            "ticks": ""
           }
          },
          "scene": {
           "xaxis": {
            "backgroundcolor": "#E5ECF6",
            "gridcolor": "white",
            "gridwidth": 2,
            "linecolor": "white",
            "showbackground": true,
            "ticks": "",
            "zerolinecolor": "white"
           },
           "yaxis": {
            "backgroundcolor": "#E5ECF6",
            "gridcolor": "white",
            "gridwidth": 2,
            "linecolor": "white",
            "showbackground": true,
            "ticks": "",
            "zerolinecolor": "white"
           },
           "zaxis": {
            "backgroundcolor": "#E5ECF6",
            "gridcolor": "white",
            "gridwidth": 2,
            "linecolor": "white",
            "showbackground": true,
            "ticks": "",
            "zerolinecolor": "white"
           }
          },
          "shapedefaults": {
           "line": {
            "color": "#2a3f5f"
           }
          },
          "ternary": {
           "aaxis": {
            "gridcolor": "white",
            "linecolor": "white",
            "ticks": ""
           },
           "baxis": {
            "gridcolor": "white",
            "linecolor": "white",
            "ticks": ""
           },
           "bgcolor": "#E5ECF6",
           "caxis": {
            "gridcolor": "white",
            "linecolor": "white",
            "ticks": ""
           }
          },
          "title": {
           "x": 0.05
          },
          "xaxis": {
           "automargin": true,
           "gridcolor": "white",
           "linecolor": "white",
           "ticks": "",
           "title": {
            "standoff": 15
           },
           "zerolinecolor": "white",
           "zerolinewidth": 2
          },
          "yaxis": {
           "automargin": true,
           "gridcolor": "white",
           "linecolor": "white",
           "ticks": "",
           "title": {
            "standoff": 15
           },
           "zerolinecolor": "white",
           "zerolinewidth": 2
          }
         }
        },
        "title": {
         "text": "IBOV Index Total Real Returns 1994 - 2022"
        },
        "xaxis": {
         "anchor": "y",
         "domain": [
          0,
          1
         ],
         "title": {
          "text": "Holding Period"
         }
        },
        "yaxis": {
         "anchor": "x",
         "domain": [
          0,
          1
         ],
         "title": {
          "text": "% of periods that earned a positive return"
         }
        }
       }
      },
      "text/html": [
       "<div>                            <div id=\"046aadcc-8046-4bd5-b169-7065df264c8f\" class=\"plotly-graph-div\" style=\"height:500px; width:100%;\"></div>            <script type=\"text/javascript\">                require([\"plotly\"], function(Plotly) {                    window.PLOTLYENV=window.PLOTLYENV || {};                                    if (document.getElementById(\"046aadcc-8046-4bd5-b169-7065df264c8f\")) {                    Plotly.newPlot(                        \"046aadcc-8046-4bd5-b169-7065df264c8f\",                        [{\"alignmentgroup\":\"True\",\"hovertemplate\":\"Holding Period=%{x}<br>% of periods that earned a positive return=%{y}<extra></extra>\",\"legendgroup\":\"\",\"marker\":{\"color\":\"#636efa\",\"pattern\":{\"shape\":\"\"}},\"name\":\"\",\"offsetgroup\":\"\",\"orientation\":\"v\",\"showlegend\":false,\"textposition\":\"outside\",\"texttemplate\":\"%{y}%\",\"x\":[\"1 Day\",\"1 Month\",\"2 Months\",\"3 Months\",\"4 Months\",\"6 Months\",\"9 Months\",\"1 Year\",\"2 Years\",\"3 Years\",\"4 Years\",\"5 Years\",\"10 Years\",\"15 years\",\"20 years\",\"25 Years\",\"27 Years\"],\"xaxis\":\"x\",\"y\":[52.0,55.0,55.0,57.0,58.0,55.0,55.0,55.0,58.0,65.0,66.0,69.0,74.0,96.0,100.0,100.0,100.0],\"yaxis\":\"y\",\"type\":\"bar\",\"textfont\":{\"size\":12},\"cliponaxis\":false,\"textangle\":0,\"width\":0.6}],                        {\"template\":{\"data\":{\"histogram2dcontour\":[{\"type\":\"histogram2dcontour\",\"colorbar\":{\"outlinewidth\":0,\"ticks\":\"\"},\"colorscale\":[[0.0,\"#0d0887\"],[0.1111111111111111,\"#46039f\"],[0.2222222222222222,\"#7201a8\"],[0.3333333333333333,\"#9c179e\"],[0.4444444444444444,\"#bd3786\"],[0.5555555555555556,\"#d8576b\"],[0.6666666666666666,\"#ed7953\"],[0.7777777777777778,\"#fb9f3a\"],[0.8888888888888888,\"#fdca26\"],[1.0,\"#f0f921\"]]}],\"choropleth\":[{\"type\":\"choropleth\",\"colorbar\":{\"outlinewidth\":0,\"ticks\":\"\"}}],\"histogram2d\":[{\"type\":\"histogram2d\",\"colorbar\":{\"outlinewidth\":0,\"ticks\":\"\"},\"colorscale\":[[0.0,\"#0d0887\"],[0.1111111111111111,\"#46039f\"],[0.2222222222222222,\"#7201a8\"],[0.3333333333333333,\"#9c179e\"],[0.4444444444444444,\"#bd3786\"],[0.5555555555555556,\"#d8576b\"],[0.6666666666666666,\"#ed7953\"],[0.7777777777777778,\"#fb9f3a\"],[0.8888888888888888,\"#fdca26\"],[1.0,\"#f0f921\"]]}],\"heatmap\":[{\"type\":\"heatmap\",\"colorbar\":{\"outlinewidth\":0,\"ticks\":\"\"},\"colorscale\":[[0.0,\"#0d0887\"],[0.1111111111111111,\"#46039f\"],[0.2222222222222222,\"#7201a8\"],[0.3333333333333333,\"#9c179e\"],[0.4444444444444444,\"#bd3786\"],[0.5555555555555556,\"#d8576b\"],[0.6666666666666666,\"#ed7953\"],[0.7777777777777778,\"#fb9f3a\"],[0.8888888888888888,\"#fdca26\"],[1.0,\"#f0f921\"]]}],\"heatmapgl\":[{\"type\":\"heatmapgl\",\"colorbar\":{\"outlinewidth\":0,\"ticks\":\"\"},\"colorscale\":[[0.0,\"#0d0887\"],[0.1111111111111111,\"#46039f\"],[0.2222222222222222,\"#7201a8\"],[0.3333333333333333,\"#9c179e\"],[0.4444444444444444,\"#bd3786\"],[0.5555555555555556,\"#d8576b\"],[0.6666666666666666,\"#ed7953\"],[0.7777777777777778,\"#fb9f3a\"],[0.8888888888888888,\"#fdca26\"],[1.0,\"#f0f921\"]]}],\"contourcarpet\":[{\"type\":\"contourcarpet\",\"colorbar\":{\"outlinewidth\":0,\"ticks\":\"\"}}],\"contour\":[{\"type\":\"contour\",\"colorbar\":{\"outlinewidth\":0,\"ticks\":\"\"},\"colorscale\":[[0.0,\"#0d0887\"],[0.1111111111111111,\"#46039f\"],[0.2222222222222222,\"#7201a8\"],[0.3333333333333333,\"#9c179e\"],[0.4444444444444444,\"#bd3786\"],[0.5555555555555556,\"#d8576b\"],[0.6666666666666666,\"#ed7953\"],[0.7777777777777778,\"#fb9f3a\"],[0.8888888888888888,\"#fdca26\"],[1.0,\"#f0f921\"]]}],\"surface\":[{\"type\":\"surface\",\"colorbar\":{\"outlinewidth\":0,\"ticks\":\"\"},\"colorscale\":[[0.0,\"#0d0887\"],[0.1111111111111111,\"#46039f\"],[0.2222222222222222,\"#7201a8\"],[0.3333333333333333,\"#9c179e\"],[0.4444444444444444,\"#bd3786\"],[0.5555555555555556,\"#d8576b\"],[0.6666666666666666,\"#ed7953\"],[0.7777777777777778,\"#fb9f3a\"],[0.8888888888888888,\"#fdca26\"],[1.0,\"#f0f921\"]]}],\"mesh3d\":[{\"type\":\"mesh3d\",\"colorbar\":{\"outlinewidth\":0,\"ticks\":\"\"}}],\"scatter\":[{\"fillpattern\":{\"fillmode\":\"overlay\",\"size\":10,\"solidity\":0.2},\"type\":\"scatter\"}],\"parcoords\":[{\"type\":\"parcoords\",\"line\":{\"colorbar\":{\"outlinewidth\":0,\"ticks\":\"\"}}}],\"scatterpolargl\":[{\"type\":\"scatterpolargl\",\"marker\":{\"colorbar\":{\"outlinewidth\":0,\"ticks\":\"\"}}}],\"bar\":[{\"error_x\":{\"color\":\"#2a3f5f\"},\"error_y\":{\"color\":\"#2a3f5f\"},\"marker\":{\"line\":{\"color\":\"#E5ECF6\",\"width\":0.5},\"pattern\":{\"fillmode\":\"overlay\",\"size\":10,\"solidity\":0.2}},\"type\":\"bar\"}],\"scattergeo\":[{\"type\":\"scattergeo\",\"marker\":{\"colorbar\":{\"outlinewidth\":0,\"ticks\":\"\"}}}],\"scatterpolar\":[{\"type\":\"scatterpolar\",\"marker\":{\"colorbar\":{\"outlinewidth\":0,\"ticks\":\"\"}}}],\"histogram\":[{\"marker\":{\"pattern\":{\"fillmode\":\"overlay\",\"size\":10,\"solidity\":0.2}},\"type\":\"histogram\"}],\"scattergl\":[{\"type\":\"scattergl\",\"marker\":{\"colorbar\":{\"outlinewidth\":0,\"ticks\":\"\"}}}],\"scatter3d\":[{\"type\":\"scatter3d\",\"line\":{\"colorbar\":{\"outlinewidth\":0,\"ticks\":\"\"}},\"marker\":{\"colorbar\":{\"outlinewidth\":0,\"ticks\":\"\"}}}],\"scattermapbox\":[{\"type\":\"scattermapbox\",\"marker\":{\"colorbar\":{\"outlinewidth\":0,\"ticks\":\"\"}}}],\"scatterternary\":[{\"type\":\"scatterternary\",\"marker\":{\"colorbar\":{\"outlinewidth\":0,\"ticks\":\"\"}}}],\"scattercarpet\":[{\"type\":\"scattercarpet\",\"marker\":{\"colorbar\":{\"outlinewidth\":0,\"ticks\":\"\"}}}],\"carpet\":[{\"aaxis\":{\"endlinecolor\":\"#2a3f5f\",\"gridcolor\":\"white\",\"linecolor\":\"white\",\"minorgridcolor\":\"white\",\"startlinecolor\":\"#2a3f5f\"},\"baxis\":{\"endlinecolor\":\"#2a3f5f\",\"gridcolor\":\"white\",\"linecolor\":\"white\",\"minorgridcolor\":\"white\",\"startlinecolor\":\"#2a3f5f\"},\"type\":\"carpet\"}],\"table\":[{\"cells\":{\"fill\":{\"color\":\"#EBF0F8\"},\"line\":{\"color\":\"white\"}},\"header\":{\"fill\":{\"color\":\"#C8D4E3\"},\"line\":{\"color\":\"white\"}},\"type\":\"table\"}],\"barpolar\":[{\"marker\":{\"line\":{\"color\":\"#E5ECF6\",\"width\":0.5},\"pattern\":{\"fillmode\":\"overlay\",\"size\":10,\"solidity\":0.2}},\"type\":\"barpolar\"}],\"pie\":[{\"automargin\":true,\"type\":\"pie\"}]},\"layout\":{\"autotypenumbers\":\"strict\",\"colorway\":[\"#636efa\",\"#EF553B\",\"#00cc96\",\"#ab63fa\",\"#FFA15A\",\"#19d3f3\",\"#FF6692\",\"#B6E880\",\"#FF97FF\",\"#FECB52\"],\"font\":{\"color\":\"#2a3f5f\"},\"hovermode\":\"closest\",\"hoverlabel\":{\"align\":\"left\"},\"paper_bgcolor\":\"white\",\"plot_bgcolor\":\"#E5ECF6\",\"polar\":{\"bgcolor\":\"#E5ECF6\",\"angularaxis\":{\"gridcolor\":\"white\",\"linecolor\":\"white\",\"ticks\":\"\"},\"radialaxis\":{\"gridcolor\":\"white\",\"linecolor\":\"white\",\"ticks\":\"\"}},\"ternary\":{\"bgcolor\":\"#E5ECF6\",\"aaxis\":{\"gridcolor\":\"white\",\"linecolor\":\"white\",\"ticks\":\"\"},\"baxis\":{\"gridcolor\":\"white\",\"linecolor\":\"white\",\"ticks\":\"\"},\"caxis\":{\"gridcolor\":\"white\",\"linecolor\":\"white\",\"ticks\":\"\"}},\"coloraxis\":{\"colorbar\":{\"outlinewidth\":0,\"ticks\":\"\"}},\"colorscale\":{\"sequential\":[[0.0,\"#0d0887\"],[0.1111111111111111,\"#46039f\"],[0.2222222222222222,\"#7201a8\"],[0.3333333333333333,\"#9c179e\"],[0.4444444444444444,\"#bd3786\"],[0.5555555555555556,\"#d8576b\"],[0.6666666666666666,\"#ed7953\"],[0.7777777777777778,\"#fb9f3a\"],[0.8888888888888888,\"#fdca26\"],[1.0,\"#f0f921\"]],\"sequentialminus\":[[0.0,\"#0d0887\"],[0.1111111111111111,\"#46039f\"],[0.2222222222222222,\"#7201a8\"],[0.3333333333333333,\"#9c179e\"],[0.4444444444444444,\"#bd3786\"],[0.5555555555555556,\"#d8576b\"],[0.6666666666666666,\"#ed7953\"],[0.7777777777777778,\"#fb9f3a\"],[0.8888888888888888,\"#fdca26\"],[1.0,\"#f0f921\"]],\"diverging\":[[0,\"#8e0152\"],[0.1,\"#c51b7d\"],[0.2,\"#de77ae\"],[0.3,\"#f1b6da\"],[0.4,\"#fde0ef\"],[0.5,\"#f7f7f7\"],[0.6,\"#e6f5d0\"],[0.7,\"#b8e186\"],[0.8,\"#7fbc41\"],[0.9,\"#4d9221\"],[1,\"#276419\"]]},\"xaxis\":{\"gridcolor\":\"white\",\"linecolor\":\"white\",\"ticks\":\"\",\"title\":{\"standoff\":15},\"zerolinecolor\":\"white\",\"automargin\":true,\"zerolinewidth\":2},\"yaxis\":{\"gridcolor\":\"white\",\"linecolor\":\"white\",\"ticks\":\"\",\"title\":{\"standoff\":15},\"zerolinecolor\":\"white\",\"automargin\":true,\"zerolinewidth\":2},\"scene\":{\"xaxis\":{\"backgroundcolor\":\"#E5ECF6\",\"gridcolor\":\"white\",\"linecolor\":\"white\",\"showbackground\":true,\"ticks\":\"\",\"zerolinecolor\":\"white\",\"gridwidth\":2},\"yaxis\":{\"backgroundcolor\":\"#E5ECF6\",\"gridcolor\":\"white\",\"linecolor\":\"white\",\"showbackground\":true,\"ticks\":\"\",\"zerolinecolor\":\"white\",\"gridwidth\":2},\"zaxis\":{\"backgroundcolor\":\"#E5ECF6\",\"gridcolor\":\"white\",\"linecolor\":\"white\",\"showbackground\":true,\"ticks\":\"\",\"zerolinecolor\":\"white\",\"gridwidth\":2}},\"shapedefaults\":{\"line\":{\"color\":\"#2a3f5f\"}},\"annotationdefaults\":{\"arrowcolor\":\"#2a3f5f\",\"arrowhead\":0,\"arrowwidth\":1},\"geo\":{\"bgcolor\":\"white\",\"landcolor\":\"#E5ECF6\",\"subunitcolor\":\"white\",\"showland\":true,\"showlakes\":true,\"lakecolor\":\"white\"},\"title\":{\"x\":0.05},\"mapbox\":{\"style\":\"light\"}}},\"xaxis\":{\"anchor\":\"y\",\"domain\":[0.0,1.0],\"title\":{\"text\":\"Holding Period\"}},\"yaxis\":{\"anchor\":\"x\",\"domain\":[0.0,1.0],\"title\":{\"text\":\"% of periods that earned a positive return\"}},\"legend\":{\"tracegroupgap\":0},\"title\":{\"text\":\"IBOV Index Total Real Returns 1994 - 2022\"},\"barmode\":\"relative\",\"height\":500},                        {\"responsive\": true}                    ).then(function(){\n",
       "                            \n",
       "var gd = document.getElementById('046aadcc-8046-4bd5-b169-7065df264c8f');\n",
       "var x = new MutationObserver(function (mutations, observer) {{\n",
       "        var display = window.getComputedStyle(gd).display;\n",
       "        if (!display || display === 'none') {{\n",
       "            console.log([gd, 'removed!']);\n",
       "            Plotly.purge(gd);\n",
       "            observer.disconnect();\n",
       "        }}\n",
       "}});\n",
       "\n",
       "// Listen for the removal of the full notebook cells\n",
       "var notebookContainer = gd.closest('#notebook-container');\n",
       "if (notebookContainer) {{\n",
       "    x.observe(notebookContainer, {childList: true});\n",
       "}}\n",
       "\n",
       "// Listen for the clearing of the current output cell\n",
       "var outputEl = gd.closest('.output');\n",
       "if (outputEl) {{\n",
       "    x.observe(outputEl, {childList: true});\n",
       "}}\n",
       "\n",
       "                        })                };                });            </script>        </div>"
      ]
     },
     "metadata": {},
     "output_type": "display_data"
    }
   ],
   "source": [
    "fig = px.bar(df_return, y= '% of periods that earned a positive return', x= 'Holding Period', text_auto='.2s',\n",
    "            title=\"IBOV Index Total Real Returns 1994 - 2022\", height=500)\n",
    "fig.update_traces(textfont_size=12, textangle=0, texttemplate='%{y}%', textposition=\"outside\", cliponaxis=False, width = 0.6)\n",
    "\n",
    "fig.show()"
   ]
  },
  {
   "cell_type": "code",
   "execution_count": null,
   "id": "53a1651e",
   "metadata": {},
   "outputs": [],
   "source": []
  }
 ],
 "metadata": {
  "colab": {
   "collapsed_sections": [],
   "provenance": []
  },
  "kernelspec": {
   "display_name": "Python 3 (ipykernel)",
   "language": "python",
   "name": "python3"
  },
  "language_info": {
   "codemirror_mode": {
    "name": "ipython",
    "version": 3
   },
   "file_extension": ".py",
   "mimetype": "text/x-python",
   "name": "python",
   "nbconvert_exporter": "python",
   "pygments_lexer": "ipython3",
   "version": "3.9.7"
  }
 },
 "nbformat": 4,
 "nbformat_minor": 5
}
